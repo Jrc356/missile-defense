{
 "cells": [
  {
   "cell_type": "code",
   "execution_count": 2,
   "metadata": {},
   "outputs": [
    {
     "name": "stderr",
     "output_type": "stream",
     "text": [
      "Using TensorFlow backend.\n"
     ]
    }
   ],
   "source": [
    "from keras.models import Sequential\n",
    "from keras.layers import Dense, Activation, Dropout"
   ]
  },
  {
   "cell_type": "code",
   "execution_count": 3,
   "metadata": {},
   "outputs": [],
   "source": [
    "def createModel():\n",
    "    model = Sequential()\n",
    "    model.add(Dense(5, input_shape=(1,5), name=\"Input\"))\n",
    "    model.add(Activation('relu'))\n",
    "    model.add(Dropout(.2))\n",
    "    model.add(Dense(10, name=\"Hidden1\"))\n",
    "    model.add(Activation('relu'))\n",
    "    model.add(Dropout(.2))\n",
    "    model.add(Dense(10, name=\"Hidden2\"))\n",
    "    model.add(Activation('relu'))\n",
    "    model.add(Dropout(.2))\n",
    "    model.add(Dense(2, name=\"Output\"))\n",
    "    model.add(Activation('softmax'))\n",
    "    return model"
   ]
  },
  {
   "cell_type": "code",
   "execution_count": 4,
   "metadata": {},
   "outputs": [],
   "source": [
    "model = createModel()"
   ]
  },
  {
   "cell_type": "code",
   "execution_count": 5,
   "metadata": {},
   "outputs": [],
   "source": [
    "model.compile(optimizer='rmsprop',\n",
    "              loss='categorical_crossentropy',\n",
    "              metrics=['accuracy'])"
   ]
  },
  {
   "cell_type": "code",
   "execution_count": 6,
   "metadata": {},
   "outputs": [],
   "source": [
    "import numpy as np"
   ]
  },
  {
   "cell_type": "code",
   "execution_count": 7,
   "metadata": {},
   "outputs": [],
   "source": [
    "from random import randint\n",
    "x1 = randint(1, 10)\n",
    "x2 = randint(1, 10)\n",
    "x3 = randint(1, 10)\n",
    "x4 = randint(1, 10)\n",
    "x5 = randint(1, 10)\n",
    "\n",
    "args = [x1,x2,x3,x4,x5]\n",
    "args_rev = args[::-1]\n",
    "\n",
    "args_comb = [args] + [args_rev]\n",
    "\n",
    "arr = np.array(args_comb)"
   ]
  },
  {
   "cell_type": "code",
   "execution_count": 8,
   "metadata": {},
   "outputs": [],
   "source": [
    "arr = arr.reshape(2,1,5)"
   ]
  },
  {
   "cell_type": "code",
   "execution_count": 9,
   "metadata": {},
   "outputs": [
    {
     "data": {
      "text/plain": [
       "(2, 1, 5)"
      ]
     },
     "execution_count": 9,
     "metadata": {},
     "output_type": "execute_result"
    }
   ],
   "source": [
    "arr.shape"
   ]
  },
  {
   "cell_type": "code",
   "execution_count": 10,
   "metadata": {},
   "outputs": [
    {
     "data": {
      "text/plain": [
       "array([[[3, 9, 2, 2, 3]],\n",
       "\n",
       "       [[3, 2, 2, 9, 3]]])"
      ]
     },
     "execution_count": 10,
     "metadata": {},
     "output_type": "execute_result"
    }
   ],
   "source": [
    "arr"
   ]
  },
  {
   "cell_type": "code",
   "execution_count": 11,
   "metadata": {},
   "outputs": [],
   "source": [
    "pred = model.predict(arr)"
   ]
  },
  {
   "cell_type": "code",
   "execution_count": 12,
   "metadata": {},
   "outputs": [
    {
     "data": {
      "text/plain": [
       "array([[[0.00255029, 0.9974497 ]],\n",
       "\n",
       "       [[0.01600836, 0.98399156]]], dtype=float32)"
      ]
     },
     "execution_count": 12,
     "metadata": {},
     "output_type": "execute_result"
    }
   ],
   "source": [
    "pred"
   ]
  },
  {
   "cell_type": "markdown",
   "metadata": {},
   "source": [
    "# Replacing weights"
   ]
  },
  {
   "cell_type": "code",
   "execution_count": 24,
   "metadata": {},
   "outputs": [],
   "source": [
    "layer = model.layers[3]"
   ]
  },
  {
   "cell_type": "code",
   "execution_count": 25,
   "metadata": {},
   "outputs": [],
   "source": [
    "weights = layer.get_weights()"
   ]
  },
  {
   "cell_type": "code",
   "execution_count": 26,
   "metadata": {},
   "outputs": [
    {
     "data": {
      "text/plain": [
       "[array([[0.68709666, 0.00389893, 0.4778332 , 0.09735183, 0.7456636 ,\n",
       "         0.35686228, 0.603749  , 0.4844827 , 0.58336043, 0.30859175],\n",
       "        [0.81550896, 0.1905326 , 0.564541  , 0.9538613 , 0.4705858 ,\n",
       "         0.85007066, 0.442197  , 0.4587548 , 0.11953949, 0.3656184 ],\n",
       "        [0.75793403, 0.22877388, 0.6748403 , 0.5532583 , 0.7236561 ,\n",
       "         0.46590307, 0.43366745, 0.14266299, 0.9305271 , 0.34183744],\n",
       "        [0.4640215 , 0.1576865 , 0.680114  , 0.643063  , 0.4065798 ,\n",
       "         0.9177542 , 0.5715427 , 0.03138895, 0.8640229 , 0.9659217 ],\n",
       "        [0.4660373 , 0.39576408, 0.15076616, 0.9051012 , 0.47864276,\n",
       "         0.9609595 , 0.3117343 , 0.59475225, 0.621871  , 0.56589925]],\n",
       "       dtype=float32),\n",
       " array([0., 0., 0., 0., 0., 0., 0., 0., 0., 0.], dtype=float32)]"
      ]
     },
     "execution_count": 26,
     "metadata": {},
     "output_type": "execute_result"
    }
   ],
   "source": [
    "weights"
   ]
  },
  {
   "cell_type": "code",
   "execution_count": 27,
   "metadata": {},
   "outputs": [],
   "source": [
    "ws = weights[0]\n",
    "bs = weights[1]"
   ]
  },
  {
   "cell_type": "code",
   "execution_count": 28,
   "metadata": {},
   "outputs": [
    {
     "data": {
      "text/plain": [
       "array([[0.68709666, 0.00389893, 0.4778332 , 0.09735183, 0.7456636 ,\n",
       "        0.35686228, 0.603749  , 0.4844827 , 0.58336043, 0.30859175],\n",
       "       [0.81550896, 0.1905326 , 0.564541  , 0.9538613 , 0.4705858 ,\n",
       "        0.85007066, 0.442197  , 0.4587548 , 0.11953949, 0.3656184 ],\n",
       "       [0.75793403, 0.22877388, 0.6748403 , 0.5532583 , 0.7236561 ,\n",
       "        0.46590307, 0.43366745, 0.14266299, 0.9305271 , 0.34183744],\n",
       "       [0.4640215 , 0.1576865 , 0.680114  , 0.643063  , 0.4065798 ,\n",
       "        0.9177542 , 0.5715427 , 0.03138895, 0.8640229 , 0.9659217 ],\n",
       "       [0.4660373 , 0.39576408, 0.15076616, 0.9051012 , 0.47864276,\n",
       "        0.9609595 , 0.3117343 , 0.59475225, 0.621871  , 0.56589925]],\n",
       "      dtype=float32)"
      ]
     },
     "execution_count": 28,
     "metadata": {},
     "output_type": "execute_result"
    }
   ],
   "source": [
    "ws"
   ]
  },
  {
   "cell_type": "code",
   "execution_count": 29,
   "metadata": {},
   "outputs": [],
   "source": [
    "new = np.random.random(ws.shape)"
   ]
  },
  {
   "cell_type": "code",
   "execution_count": 30,
   "metadata": {},
   "outputs": [],
   "source": [
    "layer.set_weights([new, bs])"
   ]
  },
  {
   "cell_type": "code",
   "execution_count": 31,
   "metadata": {},
   "outputs": [
    {
     "data": {
      "text/plain": [
       "array([[0.34619355, 0.78815415, 0.66645933, 0.07074307, 0.35905978,\n",
       "        0.43294984, 0.57106119, 0.57095519, 0.31023495, 0.23307156],\n",
       "       [0.5185442 , 0.88355282, 0.06887752, 0.29282847, 0.35405776,\n",
       "        0.43620524, 0.15331038, 0.96098771, 0.03960641, 0.97660408],\n",
       "       [0.68005302, 0.22549359, 0.47190363, 0.34808027, 0.23792695,\n",
       "        0.79826751, 0.37889407, 0.40632584, 0.12271105, 0.44278524],\n",
       "       [0.19538664, 0.47884798, 0.42823959, 0.223527  , 0.01330779,\n",
       "        0.24070815, 0.64917733, 0.73301297, 0.41252956, 0.00831456],\n",
       "       [0.7731382 , 0.49327241, 0.91111361, 0.56920539, 0.0387816 ,\n",
       "        0.44659093, 0.07821134, 0.21125174, 0.90404244, 0.82644779]])"
      ]
     },
     "execution_count": 31,
     "metadata": {},
     "output_type": "execute_result"
    }
   ],
   "source": [
    "new"
   ]
  },
  {
   "cell_type": "code",
   "execution_count": 32,
   "metadata": {},
   "outputs": [
    {
     "data": {
      "text/plain": [
       "[array([[0.34619355, 0.7881541 , 0.6664593 , 0.07074307, 0.35905978,\n",
       "         0.43294984, 0.5710612 , 0.5709552 , 0.31023496, 0.23307157],\n",
       "        [0.5185442 , 0.88355285, 0.06887752, 0.29282847, 0.35405776,\n",
       "         0.43620524, 0.15331037, 0.9609877 , 0.03960641, 0.9766041 ],\n",
       "        [0.680053  , 0.22549358, 0.47190362, 0.34808028, 0.23792695,\n",
       "         0.79826754, 0.37889406, 0.40632585, 0.12271105, 0.44278523],\n",
       "        [0.19538663, 0.47884798, 0.42823958, 0.223527  , 0.01330779,\n",
       "         0.24070816, 0.6491773 , 0.733013  , 0.41252956, 0.00831456],\n",
       "        [0.7731382 , 0.4932724 , 0.9111136 , 0.5692054 , 0.03878159,\n",
       "         0.44659093, 0.07821134, 0.21125175, 0.9040424 , 0.8264478 ]],\n",
       "       dtype=float32),\n",
       " array([0., 0., 0., 0., 0., 0., 0., 0., 0., 0.], dtype=float32)]"
      ]
     },
     "execution_count": 32,
     "metadata": {},
     "output_type": "execute_result"
    }
   ],
   "source": [
    "model.layers[3].get_weights()"
   ]
  },
  {
   "cell_type": "code",
   "execution_count": null,
   "metadata": {},
   "outputs": [],
   "source": []
  }
 ],
 "metadata": {
  "kernelspec": {
   "display_name": "Python 3",
   "language": "python",
   "name": "python3"
  },
  "language_info": {
   "codemirror_mode": {
    "name": "ipython",
    "version": 3
   },
   "file_extension": ".py",
   "mimetype": "text/x-python",
   "name": "python",
   "nbconvert_exporter": "python",
   "pygments_lexer": "ipython3",
   "version": "3.5.4"
  }
 },
 "nbformat": 4,
 "nbformat_minor": 2
}
